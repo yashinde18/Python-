{
 "cells": [
  {
   "cell_type": "markdown",
   "id": "a9e21c47",
   "metadata": {},
   "source": [
    "### What are variables?\n",
    "### Variables are containers for strong values\n",
    "### Python has no commAND FOR DECLARING THE VARIABLES\n",
    "### When you assign a value, a variable is created"
   ]
  },
  {
   "cell_type": "markdown",
   "id": "8cbeee41",
   "metadata": {},
   "source": [
    "### Rules for declaring a variable:\n",
    "### A variable name must start with a letter or underscore character\n",
    "### A variable name cannot start with a number\n",
    "### A variable name can only contain alpha-numeric characters and underscores (A-Z, a-z, _)\n",
    "### Variable names are case sensitive (age, Age and AGE are 3 different vsriables)"
   ]
  },
  {
   "cell_type": "code",
   "execution_count": 1,
   "id": "d1cb35d6",
   "metadata": {},
   "outputs": [
    {
     "data": {
      "text/plain": [
       "28.9"
      ]
     },
     "execution_count": 1,
     "metadata": {},
     "output_type": "execute_result"
    }
   ],
   "source": [
    "x=28.9\n",
    "x"
   ]
  },
  {
   "cell_type": "code",
   "execution_count": 2,
   "id": "93c5b37a",
   "metadata": {},
   "outputs": [
    {
     "data": {
      "text/plain": [
       "'Yash'"
      ]
     },
     "execution_count": 2,
     "metadata": {},
     "output_type": "execute_result"
    }
   ],
   "source": [
    "name = \"Yash\"\n",
    "name"
   ]
  },
  {
   "cell_type": "code",
   "execution_count": null,
   "id": "a981d4ec",
   "metadata": {},
   "outputs": [],
   "source": []
  }
 ],
 "metadata": {
  "kernelspec": {
   "display_name": "Python 3 (ipykernel)",
   "language": "python",
   "name": "python3"
  },
  "language_info": {
   "codemirror_mode": {
    "name": "ipython",
    "version": 3
   },
   "file_extension": ".py",
   "mimetype": "text/x-python",
   "name": "python",
   "nbconvert_exporter": "python",
   "pygments_lexer": "ipython3",
   "version": "3.9.7"
  }
 },
 "nbformat": 4,
 "nbformat_minor": 5
}
